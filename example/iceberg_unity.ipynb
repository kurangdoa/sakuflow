{
 "cells": [
  {
   "cell_type": "code",
   "execution_count": 1,
   "metadata": {},
   "outputs": [],
   "source": [
    "import findspark\n",
    "import os\n",
    "findspark.init(spark_home='/opt/spark')\n",
    "os.environ['JAVA_HOME'] = '/usr/lib/jvm/java-17-openjdk-arm64/'\n",
    "os.environ['PYSPARK_PYTHON'] = '/usr/local/bin/python3.11'\n",
    "os.environ['PYSPARK_DRIVER_PYTHON'] = '/home/datasaku/repo/datasaku/.venv/bin/python3'"
   ]
  },
  {
   "cell_type": "code",
   "execution_count": 2,
   "metadata": {},
   "outputs": [
    {
     "name": "stdout",
     "output_type": "stream",
     "text": [
      "/opt/spark\n"
     ]
    }
   ],
   "source": [
    "!echo $SPARK_HOME"
   ]
  },
  {
   "cell_type": "code",
   "execution_count": 3,
   "metadata": {},
   "outputs": [
    {
     "name": "stdout",
     "output_type": "stream",
     "text": [
      "HikariCP-2.5.1.jar\n",
      "JLargeArrays-1.5.jar\n",
      "JTransforms-3.1.jar\n",
      "RoaringBitmap-0.9.45.jar\n",
      "ST4-4.0.4.jar\n",
      "activation-1.1.1.jar\n",
      "aircompressor-0.27.jar\n",
      "algebra_2.12-2.0.1.jar\n",
      "annotations-17.0.0.jar\n",
      "antlr-runtime-3.5.2.jar\n",
      "antlr4-4.9.3.jar\n",
      "antlr4-runtime-4.9.3.jar\n",
      "antlr4-runtime-4.9.3.jar.1\n",
      "aopalliance-repackaged-2.6.1.jar\n",
      "arpack-3.0.3.jar\n",
      "arpack_combined_all-0.1.jar\n",
      "arrow-format-12.0.1.jar\n",
      "arrow-memory-core-12.0.1.jar\n",
      "arrow-memory-netty-12.0.1.jar\n",
      "arrow-vector-12.0.1.jar\n",
      "audience-annotations-0.5.0.jar\n",
      "avro-1.11.2.jar\n",
      "avro-ipc-1.11.2.jar\n",
      "avro-mapred-1.11.2.jar\n",
      "aws-java-sdk-bundle-1.12.262.jar\n",
      "blas-3.0.3.jar\n",
      "bonecp-0.8.0.RELEASE.jar\n",
      "breeze-macros_2.12-2.1.0.jar\n",
      "breeze_2.12-2.1.0.jar\n",
      "cats-kernel_2.12-2.1.1.jar\n",
      "chill-java-0.10.0.jar\n",
      "chill_2.12-0.10.0.jar\n",
      "commons-cli-1.5.0.jar\n",
      "commons-codec-1.16.1.jar\n",
      "commons-collections-3.2.2.jar\n",
      "commons-collections4-4.4.jar\n",
      "commons-compiler-3.1.9.jar\n",
      "commons-compress-1.23.0.jar\n",
      "commons-crypto-1.1.0.jar\n",
      "commons-dbcp-1.4.jar\n",
      "commons-io-2.16.1.jar\n",
      "commons-lang-2.6.jar\n",
      "commons-lang3-3.12.0.jar\n",
      "commons-logging-1.1.3.jar\n",
      "commons-math3-3.6.1.jar\n",
      "commons-pool-1.5.4.jar\n",
      "commons-text-1.10.0.jar\n",
      "compress-lzf-1.1.2.jar\n",
      "curator-client-2.13.0.jar\n",
      "curator-framework-2.13.0.jar\n",
      "curator-recipes-2.13.0.jar\n",
      "datanucleus-api-jdo-4.2.4.jar\n",
      "datanucleus-core-4.1.17.jar\n",
      "datanucleus-rdbms-4.1.19.jar\n",
      "datasketches-java-3.3.0.jar\n",
      "datasketches-memory-2.1.0.jar\n",
      "delta-spark_2.12-3.2.1.jar\n",
      "delta-storage-3.2.1.jar\n",
      "derby-10.14.2.0.jar\n",
      "dropwizard-metrics-hadoop-metrics2-reporter-0.1.2.jar\n",
      "flatbuffers-java-1.12.0.jar\n",
      "gson-2.2.4.jar\n",
      "guava-14.0.1.jar\n",
      "hadoop-aws-3.3.4.jar\n",
      "hadoop-client-api-3.3.4.jar\n",
      "hadoop-client-api-3.3.4.jar.1\n",
      "hadoop-client-runtime-3.3.4.jar\n",
      "hadoop-client-runtime-3.3.4.jar.1\n",
      "hadoop-shaded-guava-1.1.1.jar\n",
      "hadoop-yarn-server-web-proxy-3.3.4.jar\n",
      "hive-beeline-2.3.9.jar\n",
      "hive-cli-2.3.9.jar\n",
      "hive-common-2.3.9.jar\n",
      "hive-exec-2.3.9-core.jar\n",
      "hive-jdbc-2.3.9.jar\n",
      "hive-llap-common-2.3.9.jar\n",
      "hive-metastore-2.3.9.jar\n",
      "hive-serde-2.3.9.jar\n",
      "hive-service-rpc-3.1.3.jar\n",
      "hive-shims-0.23-2.3.9.jar\n",
      "hive-shims-2.3.9.jar\n",
      "hive-shims-common-2.3.9.jar\n",
      "hive-shims-scheduler-2.3.9.jar\n",
      "hive-storage-api-2.8.1.jar\n",
      "hk2-api-2.6.1.jar\n",
      "hk2-locator-2.6.1.jar\n",
      "hk2-utils-2.6.1.jar\n",
      "httpclient-4.5.14.jar\n",
      "httpcore-4.4.16.jar\n",
      "iceberg-spark-runtime-3.5_2.12-1.7.0.jar\n",
      "istack-commons-runtime-3.0.8.jar\n",
      "ivy-2.5.1.jar\n",
      "jackson-annotations-2.15.2.jar\n",
      "jackson-core-2.15.2.jar\n",
      "jackson-core-asl-1.9.13.jar\n",
      "jackson-databind-2.15.2.jar\n",
      "jackson-dataformat-yaml-2.15.2.jar\n",
      "jackson-datatype-jsr310-2.15.2.jar\n",
      "jackson-mapper-asl-1.9.13.jar\n",
      "jackson-module-scala_2.12-2.15.2.jar\n",
      "jakarta.annotation-api-1.3.5.jar\n",
      "jakarta.inject-2.6.1.jar\n",
      "jakarta.servlet-api-4.0.3.jar\n",
      "jakarta.validation-api-2.0.2.jar\n",
      "jakarta.ws.rs-api-2.1.6.jar\n",
      "jakarta.xml.bind-api-2.3.2.jar\n",
      "janino-3.1.9.jar\n",
      "javassist-3.29.2-GA.jar\n",
      "javax.jdo-3.2.0-m3.jar\n",
      "javolution-5.5.1.jar\n",
      "jaxb-runtime-2.3.2.jar\n",
      "jcl-over-slf4j-2.0.7.jar\n",
      "jdo-api-3.0.1.jar\n",
      "jersey-client-2.40.jar\n",
      "jersey-common-2.40.jar\n",
      "jersey-container-servlet-2.40.jar\n",
      "jersey-container-servlet-core-2.40.jar\n",
      "jersey-hk2-2.40.jar\n",
      "jersey-server-2.40.jar\n",
      "jline-2.14.6.jar\n",
      "joda-time-2.12.5.jar\n",
      "jodd-core-3.5.2.jar\n",
      "jpam-1.1.jar\n",
      "json-1.8.jar\n",
      "json4s-ast_2.12-3.7.0-M11.jar\n",
      "json4s-core_2.12-3.7.0-M11.jar\n",
      "json4s-jackson_2.12-3.7.0-M11.jar\n",
      "json4s-scalap_2.12-3.7.0-M11.jar\n",
      "jsr305-3.0.0.jar\n",
      "jta-1.1.jar\n",
      "jul-to-slf4j-2.0.7.jar\n",
      "kryo-shaded-4.0.2.jar\n",
      "kubernetes-client-6.7.2.jar\n",
      "kubernetes-client-api-6.7.2.jar\n",
      "kubernetes-httpclient-okhttp-6.7.2.jar\n",
      "kubernetes-model-admissionregistration-6.7.2.jar\n",
      "kubernetes-model-apiextensions-6.7.2.jar\n",
      "kubernetes-model-apps-6.7.2.jar\n",
      "kubernetes-model-autoscaling-6.7.2.jar\n",
      "kubernetes-model-batch-6.7.2.jar\n",
      "kubernetes-model-certificates-6.7.2.jar\n",
      "kubernetes-model-common-6.7.2.jar\n",
      "kubernetes-model-coordination-6.7.2.jar\n",
      "kubernetes-model-core-6.7.2.jar\n",
      "kubernetes-model-discovery-6.7.2.jar\n",
      "kubernetes-model-events-6.7.2.jar\n",
      "kubernetes-model-extensions-6.7.2.jar\n",
      "kubernetes-model-flowcontrol-6.7.2.jar\n",
      "kubernetes-model-gatewayapi-6.7.2.jar\n",
      "kubernetes-model-metrics-6.7.2.jar\n",
      "kubernetes-model-networking-6.7.2.jar\n",
      "kubernetes-model-node-6.7.2.jar\n",
      "kubernetes-model-policy-6.7.2.jar\n",
      "kubernetes-model-rbac-6.7.2.jar\n",
      "kubernetes-model-resource-6.7.2.jar\n",
      "kubernetes-model-scheduling-6.7.2.jar\n",
      "kubernetes-model-storageclass-6.7.2.jar\n",
      "lapack-3.0.3.jar\n",
      "leveldbjni-all-1.8.jar\n",
      "libfb303-0.9.3.jar\n",
      "libthrift-0.12.0.jar\n",
      "log4j-1.2-api-2.20.0.jar\n",
      "log4j-api-2.20.0.jar\n",
      "log4j-core-2.20.0.jar\n",
      "log4j-slf4j2-impl-2.20.0.jar\n",
      "logging-interceptor-3.12.12.jar\n",
      "lz4-java-1.8.0.jar\n",
      "mesos-1.4.3-shaded-protobuf.jar\n",
      "metrics-core-4.2.19.jar\n",
      "metrics-graphite-4.2.19.jar\n",
      "metrics-jmx-4.2.19.jar\n",
      "metrics-json-4.2.19.jar\n",
      "metrics-jvm-4.2.19.jar\n",
      "minlog-1.3.0.jar\n",
      "nessie-spark-extensions-3.5_2.12-0.101.3.jar\n",
      "netty-all-4.1.96.Final.jar\n",
      "netty-buffer-4.1.96.Final.jar\n",
      "netty-codec-4.1.96.Final.jar\n",
      "netty-codec-http-4.1.96.Final.jar\n",
      "netty-codec-http2-4.1.96.Final.jar\n",
      "netty-codec-socks-4.1.96.Final.jar\n",
      "netty-common-4.1.96.Final.jar\n",
      "netty-handler-4.1.96.Final.jar\n",
      "netty-handler-proxy-4.1.96.Final.jar\n",
      "netty-resolver-4.1.96.Final.jar\n",
      "netty-transport-4.1.96.Final.jar\n",
      "netty-transport-classes-epoll-4.1.96.Final.jar\n",
      "netty-transport-classes-kqueue-4.1.96.Final.jar\n",
      "netty-transport-native-epoll-4.1.96.Final-linux-aarch_64.jar\n",
      "netty-transport-native-epoll-4.1.96.Final-linux-x86_64.jar\n",
      "netty-transport-native-kqueue-4.1.96.Final-osx-aarch_64.jar\n",
      "netty-transport-native-kqueue-4.1.96.Final-osx-x86_64.jar\n",
      "netty-transport-native-unix-common-4.1.96.Final.jar\n",
      "objenesis-3.3.jar\n",
      "okhttp-3.12.12.jar\n",
      "okio-1.17.6.jar\n",
      "opencsv-2.3.jar\n",
      "orc-core-1.9.4-shaded-protobuf.jar\n",
      "orc-mapreduce-1.9.4-shaded-protobuf.jar\n",
      "orc-shims-1.9.4.jar\n",
      "oro-2.0.8.jar\n",
      "osgi-resource-locator-1.0.3.jar\n",
      "paranamer-2.8.jar\n",
      "parquet-column-1.13.1.jar\n",
      "parquet-common-1.13.1.jar\n",
      "parquet-encoding-1.13.1.jar\n",
      "parquet-format-structures-1.13.1.jar\n",
      "parquet-hadoop-1.13.1.jar\n",
      "parquet-jackson-1.13.1.jar\n",
      "pickle-1.3.jar\n",
      "postgresql-42.6.2.jar\n",
      "py4j-0.10.9.7.jar\n",
      "rocksdbjni-8.3.2.jar\n",
      "scala-collection-compat_2.12-2.7.0.jar\n",
      "scala-compiler-2.12.18.jar\n",
      "scala-library-2.12.18.jar\n",
      "scala-parser-combinators_2.12-2.3.0.jar\n",
      "scala-reflect-2.12.18.jar\n",
      "scala-xml_2.12-2.1.0.jar\n",
      "shims-0.9.45.jar\n",
      "slf4j-api-2.0.7.jar\n",
      "snakeyaml-2.0.jar\n",
      "snakeyaml-engine-2.6.jar\n",
      "snappy-java-1.1.10.5.jar\n",
      "spark-catalyst_2.12-3.5.3.jar\n",
      "spark-common-utils_2.12-3.5.3.jar\n",
      "spark-core_2.12-3.5.3.jar\n",
      "spark-graphx_2.12-3.5.3.jar\n",
      "spark-hive-thriftserver_2.12-3.5.3.jar\n",
      "spark-hive_2.12-3.5.3.jar\n",
      "spark-kubernetes_2.12-3.5.3.jar\n",
      "spark-kvstore_2.12-3.5.3.jar\n",
      "spark-launcher_2.12-3.5.3.jar\n",
      "spark-mesos_2.12-3.5.3.jar\n",
      "spark-mllib-local_2.12-3.5.3.jar\n",
      "spark-mllib_2.12-3.5.3.jar\n",
      "spark-network-common_2.12-3.5.3.jar\n",
      "spark-network-shuffle_2.12-3.5.3.jar\n",
      "spark-repl_2.12-3.5.3.jar\n",
      "spark-sketch_2.12-3.5.3.jar\n",
      "spark-sql-api_2.12-3.5.3.jar\n",
      "spark-sql_2.12-3.5.3.jar\n",
      "spark-streaming_2.12-3.5.3.jar\n",
      "spark-tags_2.12-3.5.3.jar\n",
      "spark-unsafe_2.12-3.5.3.jar\n",
      "spark-yarn_2.12-3.5.3.jar\n",
      "spire-macros_2.12-0.17.0.jar\n",
      "spire-platform_2.12-0.17.0.jar\n",
      "spire-util_2.12-0.17.0.jar\n",
      "spire_2.12-0.17.0.jar\n",
      "stax-api-1.0.1.jar\n",
      "stream-2.9.6.jar\n",
      "super-csv-2.2.0.jar\n",
      "threeten-extra-1.7.1.jar\n",
      "tink-1.9.0.jar\n",
      "transaction-api-1.1.jar\n",
      "unitycatalog-client-0.2.0.jar\n",
      "unitycatalog-spark_2.12-0.2.0.jar\n",
      "univocity-parsers-2.9.1.jar\n",
      "xbean-asm9-shaded-4.23.jar\n",
      "xz-1.9.jar\n",
      "zjsonpatch-0.3.0.jar\n",
      "zookeeper-3.6.3.jar\n",
      "zookeeper-jute-3.6.3.jar\n",
      "zstd-jni-1.5.5-4.jar\n"
     ]
    }
   ],
   "source": [
    "!ls $SPARK_HOME/jars"
   ]
  },
  {
   "cell_type": "code",
   "execution_count": 4,
   "metadata": {},
   "outputs": [
    {
     "name": "stdout",
     "output_type": "stream",
     "text": [
      "HikariCP-2.5.1.jar\n",
      "JLargeArrays-1.5.jar\n",
      "JTransforms-3.1.jar\n",
      "RoaringBitmap-0.9.45.jar\n",
      "ST4-4.0.4.jar\n",
      "activation-1.1.1.jar\n",
      "aircompressor-0.27.jar\n",
      "algebra_2.12-2.0.1.jar\n",
      "annotations-17.0.0.jar\n",
      "antlr-runtime-3.5.2.jar\n",
      "antlr4-4.9.3.jar\n",
      "antlr4-runtime-4.9.3.jar\n",
      "antlr4-runtime-4.9.3.jar.1\n",
      "aopalliance-repackaged-2.6.1.jar\n",
      "arpack-3.0.3.jar\n",
      "arpack_combined_all-0.1.jar\n",
      "arrow-format-12.0.1.jar\n",
      "arrow-memory-core-12.0.1.jar\n",
      "arrow-memory-netty-12.0.1.jar\n",
      "arrow-vector-12.0.1.jar\n",
      "audience-annotations-0.5.0.jar\n",
      "avro-1.11.2.jar\n",
      "avro-ipc-1.11.2.jar\n",
      "avro-mapred-1.11.2.jar\n",
      "aws-java-sdk-bundle-1.12.262.jar\n",
      "blas-3.0.3.jar\n",
      "bonecp-0.8.0.RELEASE.jar\n",
      "breeze-macros_2.12-2.1.0.jar\n",
      "breeze_2.12-2.1.0.jar\n",
      "cats-kernel_2.12-2.1.1.jar\n",
      "chill-java-0.10.0.jar\n",
      "chill_2.12-0.10.0.jar\n",
      "commons-cli-1.5.0.jar\n",
      "commons-codec-1.16.1.jar\n",
      "commons-collections-3.2.2.jar\n",
      "commons-collections4-4.4.jar\n",
      "commons-compiler-3.1.9.jar\n",
      "commons-compress-1.23.0.jar\n",
      "commons-crypto-1.1.0.jar\n",
      "commons-dbcp-1.4.jar\n",
      "commons-io-2.16.1.jar\n",
      "commons-lang-2.6.jar\n",
      "commons-lang3-3.12.0.jar\n",
      "commons-logging-1.1.3.jar\n",
      "commons-math3-3.6.1.jar\n",
      "commons-pool-1.5.4.jar\n",
      "commons-text-1.10.0.jar\n",
      "compress-lzf-1.1.2.jar\n",
      "curator-client-2.13.0.jar\n",
      "curator-framework-2.13.0.jar\n",
      "curator-recipes-2.13.0.jar\n",
      "datanucleus-api-jdo-4.2.4.jar\n",
      "datanucleus-core-4.1.17.jar\n",
      "datanucleus-rdbms-4.1.19.jar\n",
      "datasketches-java-3.3.0.jar\n",
      "datasketches-memory-2.1.0.jar\n",
      "delta-spark_2.12-3.2.1.jar\n",
      "delta-storage-3.2.1.jar\n",
      "derby-10.14.2.0.jar\n",
      "dropwizard-metrics-hadoop-metrics2-reporter-0.1.2.jar\n",
      "flatbuffers-java-1.12.0.jar\n",
      "gson-2.2.4.jar\n",
      "guava-14.0.1.jar\n",
      "hadoop-aws-3.3.4.jar\n",
      "hadoop-client-api-3.3.4.jar\n",
      "hadoop-client-api-3.3.4.jar.1\n",
      "hadoop-client-runtime-3.3.4.jar\n",
      "hadoop-client-runtime-3.3.4.jar.1\n",
      "hadoop-shaded-guava-1.1.1.jar\n",
      "hadoop-yarn-server-web-proxy-3.3.4.jar\n",
      "hive-beeline-2.3.9.jar\n",
      "hive-cli-2.3.9.jar\n",
      "hive-common-2.3.9.jar\n",
      "hive-exec-2.3.9-core.jar\n",
      "hive-jdbc-2.3.9.jar\n",
      "hive-llap-common-2.3.9.jar\n",
      "hive-metastore-2.3.9.jar\n",
      "hive-serde-2.3.9.jar\n",
      "hive-service-rpc-3.1.3.jar\n",
      "hive-shims-0.23-2.3.9.jar\n",
      "hive-shims-2.3.9.jar\n",
      "hive-shims-common-2.3.9.jar\n",
      "hive-shims-scheduler-2.3.9.jar\n",
      "hive-storage-api-2.8.1.jar\n",
      "hk2-api-2.6.1.jar\n",
      "hk2-locator-2.6.1.jar\n",
      "hk2-utils-2.6.1.jar\n",
      "httpclient-4.5.14.jar\n",
      "httpcore-4.4.16.jar\n",
      "iceberg-spark-runtime-3.5_2.12-1.7.0.jar\n",
      "istack-commons-runtime-3.0.8.jar\n",
      "ivy-2.5.1.jar\n",
      "jackson-annotations-2.15.2.jar\n",
      "jackson-core-2.15.2.jar\n",
      "jackson-core-asl-1.9.13.jar\n",
      "jackson-databind-2.15.2.jar\n",
      "jackson-dataformat-yaml-2.15.2.jar\n",
      "jackson-datatype-jsr310-2.15.2.jar\n",
      "jackson-mapper-asl-1.9.13.jar\n",
      "jackson-module-scala_2.12-2.15.2.jar\n",
      "jakarta.annotation-api-1.3.5.jar\n",
      "jakarta.inject-2.6.1.jar\n",
      "jakarta.servlet-api-4.0.3.jar\n",
      "jakarta.validation-api-2.0.2.jar\n",
      "jakarta.ws.rs-api-2.1.6.jar\n",
      "jakarta.xml.bind-api-2.3.2.jar\n",
      "janino-3.1.9.jar\n",
      "javassist-3.29.2-GA.jar\n",
      "javax.jdo-3.2.0-m3.jar\n",
      "javolution-5.5.1.jar\n",
      "jaxb-runtime-2.3.2.jar\n",
      "jcl-over-slf4j-2.0.7.jar\n",
      "jdo-api-3.0.1.jar\n",
      "jersey-client-2.40.jar\n",
      "jersey-common-2.40.jar\n",
      "jersey-container-servlet-2.40.jar\n",
      "jersey-container-servlet-core-2.40.jar\n",
      "jersey-hk2-2.40.jar\n",
      "jersey-server-2.40.jar\n",
      "jline-2.14.6.jar\n",
      "joda-time-2.12.5.jar\n",
      "jodd-core-3.5.2.jar\n",
      "jpam-1.1.jar\n",
      "json-1.8.jar\n",
      "json4s-ast_2.12-3.7.0-M11.jar\n",
      "json4s-core_2.12-3.7.0-M11.jar\n",
      "json4s-jackson_2.12-3.7.0-M11.jar\n",
      "json4s-scalap_2.12-3.7.0-M11.jar\n",
      "jsr305-3.0.0.jar\n",
      "jta-1.1.jar\n",
      "jul-to-slf4j-2.0.7.jar\n",
      "kryo-shaded-4.0.2.jar\n",
      "kubernetes-client-6.7.2.jar\n",
      "kubernetes-client-api-6.7.2.jar\n",
      "kubernetes-httpclient-okhttp-6.7.2.jar\n",
      "kubernetes-model-admissionregistration-6.7.2.jar\n",
      "kubernetes-model-apiextensions-6.7.2.jar\n",
      "kubernetes-model-apps-6.7.2.jar\n",
      "kubernetes-model-autoscaling-6.7.2.jar\n",
      "kubernetes-model-batch-6.7.2.jar\n",
      "kubernetes-model-certificates-6.7.2.jar\n",
      "kubernetes-model-common-6.7.2.jar\n",
      "kubernetes-model-coordination-6.7.2.jar\n",
      "kubernetes-model-core-6.7.2.jar\n",
      "kubernetes-model-discovery-6.7.2.jar\n",
      "kubernetes-model-events-6.7.2.jar\n",
      "kubernetes-model-extensions-6.7.2.jar\n",
      "kubernetes-model-flowcontrol-6.7.2.jar\n",
      "kubernetes-model-gatewayapi-6.7.2.jar\n",
      "kubernetes-model-metrics-6.7.2.jar\n",
      "kubernetes-model-networking-6.7.2.jar\n",
      "kubernetes-model-node-6.7.2.jar\n",
      "kubernetes-model-policy-6.7.2.jar\n",
      "kubernetes-model-rbac-6.7.2.jar\n",
      "kubernetes-model-resource-6.7.2.jar\n",
      "kubernetes-model-scheduling-6.7.2.jar\n",
      "kubernetes-model-storageclass-6.7.2.jar\n",
      "lapack-3.0.3.jar\n",
      "leveldbjni-all-1.8.jar\n",
      "libfb303-0.9.3.jar\n",
      "libthrift-0.12.0.jar\n",
      "log4j-1.2-api-2.20.0.jar\n",
      "log4j-api-2.20.0.jar\n",
      "log4j-core-2.20.0.jar\n",
      "log4j-slf4j2-impl-2.20.0.jar\n",
      "logging-interceptor-3.12.12.jar\n",
      "lz4-java-1.8.0.jar\n",
      "mesos-1.4.3-shaded-protobuf.jar\n",
      "metrics-core-4.2.19.jar\n",
      "metrics-graphite-4.2.19.jar\n",
      "metrics-jmx-4.2.19.jar\n",
      "metrics-json-4.2.19.jar\n",
      "metrics-jvm-4.2.19.jar\n",
      "minlog-1.3.0.jar\n",
      "nessie-spark-extensions-3.5_2.12-0.101.3.jar\n",
      "netty-all-4.1.96.Final.jar\n",
      "netty-buffer-4.1.96.Final.jar\n",
      "netty-codec-4.1.96.Final.jar\n",
      "netty-codec-http-4.1.96.Final.jar\n",
      "netty-codec-http2-4.1.96.Final.jar\n",
      "netty-codec-socks-4.1.96.Final.jar\n",
      "netty-common-4.1.96.Final.jar\n",
      "netty-handler-4.1.96.Final.jar\n",
      "netty-handler-proxy-4.1.96.Final.jar\n",
      "netty-resolver-4.1.96.Final.jar\n",
      "netty-transport-4.1.96.Final.jar\n",
      "netty-transport-classes-epoll-4.1.96.Final.jar\n",
      "netty-transport-classes-kqueue-4.1.96.Final.jar\n",
      "netty-transport-native-epoll-4.1.96.Final-linux-aarch_64.jar\n",
      "netty-transport-native-epoll-4.1.96.Final-linux-x86_64.jar\n",
      "netty-transport-native-kqueue-4.1.96.Final-osx-aarch_64.jar\n",
      "netty-transport-native-kqueue-4.1.96.Final-osx-x86_64.jar\n",
      "netty-transport-native-unix-common-4.1.96.Final.jar\n",
      "objenesis-3.3.jar\n",
      "okhttp-3.12.12.jar\n",
      "okio-1.17.6.jar\n",
      "opencsv-2.3.jar\n",
      "orc-core-1.9.4-shaded-protobuf.jar\n",
      "orc-mapreduce-1.9.4-shaded-protobuf.jar\n",
      "orc-shims-1.9.4.jar\n",
      "oro-2.0.8.jar\n",
      "osgi-resource-locator-1.0.3.jar\n",
      "paranamer-2.8.jar\n",
      "parquet-column-1.13.1.jar\n",
      "parquet-common-1.13.1.jar\n",
      "parquet-encoding-1.13.1.jar\n",
      "parquet-format-structures-1.13.1.jar\n",
      "parquet-hadoop-1.13.1.jar\n",
      "parquet-jackson-1.13.1.jar\n",
      "pickle-1.3.jar\n",
      "postgresql-42.6.2.jar\n",
      "py4j-0.10.9.7.jar\n",
      "rocksdbjni-8.3.2.jar\n",
      "scala-collection-compat_2.12-2.7.0.jar\n",
      "scala-compiler-2.12.18.jar\n",
      "scala-library-2.12.18.jar\n",
      "scala-parser-combinators_2.12-2.3.0.jar\n",
      "scala-reflect-2.12.18.jar\n",
      "scala-xml_2.12-2.1.0.jar\n",
      "shims-0.9.45.jar\n",
      "slf4j-api-2.0.7.jar\n",
      "snakeyaml-2.0.jar\n",
      "snakeyaml-engine-2.6.jar\n",
      "snappy-java-1.1.10.5.jar\n",
      "spark-catalyst_2.12-3.5.3.jar\n",
      "spark-common-utils_2.12-3.5.3.jar\n",
      "spark-core_2.12-3.5.3.jar\n",
      "spark-graphx_2.12-3.5.3.jar\n",
      "spark-hive-thriftserver_2.12-3.5.3.jar\n",
      "spark-hive_2.12-3.5.3.jar\n",
      "spark-kubernetes_2.12-3.5.3.jar\n",
      "spark-kvstore_2.12-3.5.3.jar\n",
      "spark-launcher_2.12-3.5.3.jar\n",
      "spark-mesos_2.12-3.5.3.jar\n",
      "spark-mllib-local_2.12-3.5.3.jar\n",
      "spark-mllib_2.12-3.5.3.jar\n",
      "spark-network-common_2.12-3.5.3.jar\n",
      "spark-network-shuffle_2.12-3.5.3.jar\n",
      "spark-repl_2.12-3.5.3.jar\n",
      "spark-sketch_2.12-3.5.3.jar\n",
      "spark-sql-api_2.12-3.5.3.jar\n",
      "spark-sql_2.12-3.5.3.jar\n",
      "spark-streaming_2.12-3.5.3.jar\n",
      "spark-tags_2.12-3.5.3.jar\n",
      "spark-unsafe_2.12-3.5.3.jar\n",
      "spark-yarn_2.12-3.5.3.jar\n",
      "spire-macros_2.12-0.17.0.jar\n",
      "spire-platform_2.12-0.17.0.jar\n",
      "spire-util_2.12-0.17.0.jar\n",
      "spire_2.12-0.17.0.jar\n",
      "stax-api-1.0.1.jar\n",
      "stream-2.9.6.jar\n",
      "super-csv-2.2.0.jar\n",
      "threeten-extra-1.7.1.jar\n",
      "tink-1.9.0.jar\n",
      "transaction-api-1.1.jar\n",
      "unitycatalog-client-0.2.0.jar\n",
      "unitycatalog-spark_2.12-0.2.0.jar\n",
      "univocity-parsers-2.9.1.jar\n",
      "xbean-asm9-shaded-4.23.jar\n",
      "xz-1.9.jar\n",
      "zjsonpatch-0.3.0.jar\n",
      "zookeeper-3.6.3.jar\n",
      "zookeeper-jute-3.6.3.jar\n",
      "zstd-jni-1.5.5-4.jar\n"
     ]
    }
   ],
   "source": [
    "!ls /opt/spark/jars"
   ]
  },
  {
   "cell_type": "code",
   "execution_count": 5,
   "metadata": {},
   "outputs": [
    {
     "name": "stdout",
     "output_type": "stream",
     "text": [
      "openjdk version \"17.0.13\" 2024-10-15\n",
      "OpenJDK Runtime Environment (build 17.0.13+11-Debian-1deb11u1)\n",
      "OpenJDK 64-Bit Server VM (build 17.0.13+11-Debian-1deb11u1, mixed mode, sharing)\n"
     ]
    }
   ],
   "source": [
    "!java -version"
   ]
  },
  {
   "cell_type": "code",
   "execution_count": 6,
   "metadata": {},
   "outputs": [
    {
     "name": "stderr",
     "output_type": "stream",
     "text": [
      "Setting default log level to \"WARN\".\n",
      "To adjust logging level use sc.setLogLevel(newLevel). For SparkR, use setLogLevel(newLevel).\n",
      "25/01/18 09:42:26 WARN NativeCodeLoader: Unable to load native-hadoop library for your platform... using builtin-java classes where applicable\n"
     ]
    }
   ],
   "source": [
    "import pyspark\n",
    "from pyspark.sql import SparkSession\n",
    "import os\n",
    "import socket\n",
    "\n",
    "conf = pyspark.SparkConf().setAll([\n",
    "    ('spark.driver.host', socket.gethostbyname(socket.gethostname()))\n",
    "    , ('spark.app.name', 'test')\n",
    "    , ('spark.master', \"spark://spark-master.spark-dev.svc.cluster.local:7077\")\n",
    "    # , (\"spark.jars.packages\", \"org.apache.hadoop:hadoop-aws:3.3.4,io.delta:delta-spark_2.12:3.2.1,io.unitycatalog:unitycatalog-spark_2.12:0.2.0\")\n",
    "    , (\"spark.sql.extensions\", \"io.delta.sql.DeltaSparkSessionExtension\")\n",
    "    , ('spark.hadoop.fs.s3a.endpoint', \"http://minio-service.minio-dev.svc.cluster.local:6544\")\n",
    "    # for minio spark\n",
    "    , ('spark.hadoop.fs.s3a.access.key','minio')\n",
    "    , ('spark.hadoop.fs.s3a.secret.key', 'minio123')\n",
    "    , ('spark.hadoop.fs.s3a.path.style.access', 'true')\n",
    "    , (\"spark.hadoop.fs.s3a.connection.ssl.enabled\", \"false\")\n",
    "    # for iceberg minio jdbc\n",
    "    , (\"spark.hadoop.fs.s3.impl\", \"org.apache.hadoop.fs.s3a.S3AFileSystem\")\n",
    "    , ('spark.sql.catalog.spark_catalog', 'io.unitycatalog.spark.UCSingleCatalog')\n",
    "    , ('spark.sql.catalog.unity', 'io.unitycatalog.spark.UCSingleCatalog')\n",
    "    , (\"spark.sql.catalog.unity.catalog-impl\", \"io.delta.sql.DeltaSparkSessionExtension\")\n",
    "    , ('spark.sql.catalog.unity.uri', 'http://unity-service.unity-dev.svc.cluster.local:4566')\n",
    "    , ('spark.sql.catalog.unity.token', '')\n",
    "    , ('spark.sql.defaultCatalog', 'unity')\n",
    "    # , ('spark.sql.catalog.nessie_catalog.warehouse', 's3a://unity/')\n",
    "    ])\n",
    "sc = pyspark.SparkContext(conf=conf)\n",
    "spark = SparkSession.builder.config(conf=conf).getOrCreate()"
   ]
  },
  {
   "cell_type": "code",
   "execution_count": 7,
   "metadata": {},
   "outputs": [
    {
     "name": "stdout",
     "output_type": "stream",
     "text": [
      "+---------+\n",
      "|namespace|\n",
      "+---------+\n",
      "|  default|\n",
      "+---------+\n",
      "\n"
     ]
    }
   ],
   "source": [
    "spark.sql(\"SHOW SCHEMAS in unity\").show()"
   ]
  },
  {
   "cell_type": "code",
   "execution_count": 8,
   "metadata": {},
   "outputs": [
    {
     "name": "stdout",
     "output_type": "stream",
     "text": [
      "+---------+-----------------+-----------+\n",
      "|namespace|        tableName|isTemporary|\n",
      "+---------+-----------------+-----------+\n",
      "|  default|        marksheet|      false|\n",
      "|  default|marksheet_uniform|      false|\n",
      "|  default|          numbers|      false|\n",
      "|  default|   user_countries|      false|\n",
      "+---------+-----------------+-----------+\n",
      "\n"
     ]
    }
   ],
   "source": [
    "spark.sql(\"SHOW TABLES IN unity.default\").show()  "
   ]
  },
  {
   "cell_type": "code",
   "execution_count": 9,
   "metadata": {},
   "outputs": [
    {
     "ename": "AnalysisException",
     "evalue": "[DELTA_TABLE_NOT_FOUND] Delta table `default`.`numbers` doesn't exist.",
     "output_type": "error",
     "traceback": [
      "\u001b[0;31m---------------------------------------------------------------------------\u001b[0m",
      "\u001b[0;31mAnalysisException\u001b[0m                         Traceback (most recent call last)",
      "Cell \u001b[0;32mIn[9], line 1\u001b[0m\n\u001b[0;32m----> 1\u001b[0m \u001b[43mspark\u001b[49m\u001b[38;5;241;43m.\u001b[39;49m\u001b[43msql\u001b[49m\u001b[43m(\u001b[49m\u001b[38;5;124;43m\"\u001b[39;49m\u001b[38;5;124;43mSELECT * FROM unity.default.numbers\u001b[39;49m\u001b[38;5;124;43m\"\u001b[39;49m\u001b[43m)\u001b[49m\u001b[38;5;241m.\u001b[39mshow()\n",
      "File \u001b[0;32m/opt/spark/python/pyspark/sql/session.py:1631\u001b[0m, in \u001b[0;36mSparkSession.sql\u001b[0;34m(self, sqlQuery, args, **kwargs)\u001b[0m\n\u001b[1;32m   1627\u001b[0m         \u001b[38;5;28;01massert\u001b[39;00m \u001b[38;5;28mself\u001b[39m\u001b[38;5;241m.\u001b[39m_jvm \u001b[38;5;129;01mis\u001b[39;00m \u001b[38;5;129;01mnot\u001b[39;00m \u001b[38;5;28;01mNone\u001b[39;00m\n\u001b[1;32m   1628\u001b[0m         litArgs \u001b[38;5;241m=\u001b[39m \u001b[38;5;28mself\u001b[39m\u001b[38;5;241m.\u001b[39m_jvm\u001b[38;5;241m.\u001b[39mPythonUtils\u001b[38;5;241m.\u001b[39mtoArray(\n\u001b[1;32m   1629\u001b[0m             [_to_java_column(lit(v)) \u001b[38;5;28;01mfor\u001b[39;00m v \u001b[38;5;129;01min\u001b[39;00m (args \u001b[38;5;129;01mor\u001b[39;00m [])]\n\u001b[1;32m   1630\u001b[0m         )\n\u001b[0;32m-> 1631\u001b[0m     \u001b[38;5;28;01mreturn\u001b[39;00m DataFrame(\u001b[38;5;28;43mself\u001b[39;49m\u001b[38;5;241;43m.\u001b[39;49m\u001b[43m_jsparkSession\u001b[49m\u001b[38;5;241;43m.\u001b[39;49m\u001b[43msql\u001b[49m\u001b[43m(\u001b[49m\u001b[43msqlQuery\u001b[49m\u001b[43m,\u001b[49m\u001b[43m \u001b[49m\u001b[43mlitArgs\u001b[49m\u001b[43m)\u001b[49m, \u001b[38;5;28mself\u001b[39m)\n\u001b[1;32m   1632\u001b[0m \u001b[38;5;28;01mfinally\u001b[39;00m:\n\u001b[1;32m   1633\u001b[0m     \u001b[38;5;28;01mif\u001b[39;00m \u001b[38;5;28mlen\u001b[39m(kwargs) \u001b[38;5;241m>\u001b[39m \u001b[38;5;241m0\u001b[39m:\n",
      "File \u001b[0;32m/opt/spark/python/lib/py4j-0.10.9.7-src.zip/py4j/java_gateway.py:1322\u001b[0m, in \u001b[0;36mJavaMember.__call__\u001b[0;34m(self, *args)\u001b[0m\n\u001b[1;32m   1316\u001b[0m command \u001b[38;5;241m=\u001b[39m proto\u001b[38;5;241m.\u001b[39mCALL_COMMAND_NAME \u001b[38;5;241m+\u001b[39m\\\n\u001b[1;32m   1317\u001b[0m     \u001b[38;5;28mself\u001b[39m\u001b[38;5;241m.\u001b[39mcommand_header \u001b[38;5;241m+\u001b[39m\\\n\u001b[1;32m   1318\u001b[0m     args_command \u001b[38;5;241m+\u001b[39m\\\n\u001b[1;32m   1319\u001b[0m     proto\u001b[38;5;241m.\u001b[39mEND_COMMAND_PART\n\u001b[1;32m   1321\u001b[0m answer \u001b[38;5;241m=\u001b[39m \u001b[38;5;28mself\u001b[39m\u001b[38;5;241m.\u001b[39mgateway_client\u001b[38;5;241m.\u001b[39msend_command(command)\n\u001b[0;32m-> 1322\u001b[0m return_value \u001b[38;5;241m=\u001b[39m \u001b[43mget_return_value\u001b[49m\u001b[43m(\u001b[49m\n\u001b[1;32m   1323\u001b[0m \u001b[43m    \u001b[49m\u001b[43manswer\u001b[49m\u001b[43m,\u001b[49m\u001b[43m \u001b[49m\u001b[38;5;28;43mself\u001b[39;49m\u001b[38;5;241;43m.\u001b[39;49m\u001b[43mgateway_client\u001b[49m\u001b[43m,\u001b[49m\u001b[43m \u001b[49m\u001b[38;5;28;43mself\u001b[39;49m\u001b[38;5;241;43m.\u001b[39;49m\u001b[43mtarget_id\u001b[49m\u001b[43m,\u001b[49m\u001b[43m \u001b[49m\u001b[38;5;28;43mself\u001b[39;49m\u001b[38;5;241;43m.\u001b[39;49m\u001b[43mname\u001b[49m\u001b[43m)\u001b[49m\n\u001b[1;32m   1325\u001b[0m \u001b[38;5;28;01mfor\u001b[39;00m temp_arg \u001b[38;5;129;01min\u001b[39;00m temp_args:\n\u001b[1;32m   1326\u001b[0m     \u001b[38;5;28;01mif\u001b[39;00m \u001b[38;5;28mhasattr\u001b[39m(temp_arg, \u001b[38;5;124m\"\u001b[39m\u001b[38;5;124m_detach\u001b[39m\u001b[38;5;124m\"\u001b[39m):\n",
      "File \u001b[0;32m/opt/spark/python/pyspark/errors/exceptions/captured.py:185\u001b[0m, in \u001b[0;36mcapture_sql_exception.<locals>.deco\u001b[0;34m(*a, **kw)\u001b[0m\n\u001b[1;32m    181\u001b[0m converted \u001b[38;5;241m=\u001b[39m convert_exception(e\u001b[38;5;241m.\u001b[39mjava_exception)\n\u001b[1;32m    182\u001b[0m \u001b[38;5;28;01mif\u001b[39;00m \u001b[38;5;129;01mnot\u001b[39;00m \u001b[38;5;28misinstance\u001b[39m(converted, UnknownException):\n\u001b[1;32m    183\u001b[0m     \u001b[38;5;66;03m# Hide where the exception came from that shows a non-Pythonic\u001b[39;00m\n\u001b[1;32m    184\u001b[0m     \u001b[38;5;66;03m# JVM exception message.\u001b[39;00m\n\u001b[0;32m--> 185\u001b[0m     \u001b[38;5;28;01mraise\u001b[39;00m converted \u001b[38;5;28;01mfrom\u001b[39;00m\u001b[38;5;250m \u001b[39m\u001b[38;5;28;01mNone\u001b[39;00m\n\u001b[1;32m    186\u001b[0m \u001b[38;5;28;01melse\u001b[39;00m:\n\u001b[1;32m    187\u001b[0m     \u001b[38;5;28;01mraise\u001b[39;00m\n",
      "\u001b[0;31mAnalysisException\u001b[0m: [DELTA_TABLE_NOT_FOUND] Delta table `default`.`numbers` doesn't exist."
     ]
    }
   ],
   "source": [
    "spark.sql(\"SELECT * FROM unity.default.numbers\").show()"
   ]
  },
  {
   "cell_type": "code",
   "execution_count": 16,
   "metadata": {},
   "outputs": [
    {
     "ename": "AnalysisException",
     "evalue": "[TABLE_OR_VIEW_NOT_FOUND] The table or view `unity`.`information_schema`.`tables` cannot be found. Verify the spelling and correctness of the schema and catalog.\nIf you did not qualify the name with a schema, verify the current_schema() output, or qualify the name with the correct schema and catalog.\nTo tolerate the error on drop use DROP VIEW IF EXISTS or DROP TABLE IF EXISTS.; line 1 pos 14;\n'Project [*]\n+- 'UnresolvedRelation [unity, information_schema, tables], [], false\n",
     "output_type": "error",
     "traceback": [
      "\u001b[0;31m---------------------------------------------------------------------------\u001b[0m",
      "\u001b[0;31mAnalysisException\u001b[0m                         Traceback (most recent call last)",
      "Cell \u001b[0;32mIn[16], line 1\u001b[0m\n\u001b[0;32m----> 1\u001b[0m \u001b[43mspark\u001b[49m\u001b[38;5;241;43m.\u001b[39;49m\u001b[43msql\u001b[49m\u001b[43m(\u001b[49m\u001b[38;5;124;43m\"\u001b[39;49m\u001b[38;5;124;43mSELECT * FROM unity.information_schema.tables\u001b[39;49m\u001b[38;5;124;43m\"\u001b[39;49m\u001b[43m)\u001b[49m\n",
      "File \u001b[0;32m/opt/spark/python/pyspark/sql/session.py:1631\u001b[0m, in \u001b[0;36mSparkSession.sql\u001b[0;34m(self, sqlQuery, args, **kwargs)\u001b[0m\n\u001b[1;32m   1627\u001b[0m         \u001b[38;5;28;01massert\u001b[39;00m \u001b[38;5;28mself\u001b[39m\u001b[38;5;241m.\u001b[39m_jvm \u001b[38;5;129;01mis\u001b[39;00m \u001b[38;5;129;01mnot\u001b[39;00m \u001b[38;5;28;01mNone\u001b[39;00m\n\u001b[1;32m   1628\u001b[0m         litArgs \u001b[38;5;241m=\u001b[39m \u001b[38;5;28mself\u001b[39m\u001b[38;5;241m.\u001b[39m_jvm\u001b[38;5;241m.\u001b[39mPythonUtils\u001b[38;5;241m.\u001b[39mtoArray(\n\u001b[1;32m   1629\u001b[0m             [_to_java_column(lit(v)) \u001b[38;5;28;01mfor\u001b[39;00m v \u001b[38;5;129;01min\u001b[39;00m (args \u001b[38;5;129;01mor\u001b[39;00m [])]\n\u001b[1;32m   1630\u001b[0m         )\n\u001b[0;32m-> 1631\u001b[0m     \u001b[38;5;28;01mreturn\u001b[39;00m DataFrame(\u001b[38;5;28;43mself\u001b[39;49m\u001b[38;5;241;43m.\u001b[39;49m\u001b[43m_jsparkSession\u001b[49m\u001b[38;5;241;43m.\u001b[39;49m\u001b[43msql\u001b[49m\u001b[43m(\u001b[49m\u001b[43msqlQuery\u001b[49m\u001b[43m,\u001b[49m\u001b[43m \u001b[49m\u001b[43mlitArgs\u001b[49m\u001b[43m)\u001b[49m, \u001b[38;5;28mself\u001b[39m)\n\u001b[1;32m   1632\u001b[0m \u001b[38;5;28;01mfinally\u001b[39;00m:\n\u001b[1;32m   1633\u001b[0m     \u001b[38;5;28;01mif\u001b[39;00m \u001b[38;5;28mlen\u001b[39m(kwargs) \u001b[38;5;241m>\u001b[39m \u001b[38;5;241m0\u001b[39m:\n",
      "File \u001b[0;32m/opt/spark/python/lib/py4j-0.10.9.7-src.zip/py4j/java_gateway.py:1322\u001b[0m, in \u001b[0;36mJavaMember.__call__\u001b[0;34m(self, *args)\u001b[0m\n\u001b[1;32m   1316\u001b[0m command \u001b[38;5;241m=\u001b[39m proto\u001b[38;5;241m.\u001b[39mCALL_COMMAND_NAME \u001b[38;5;241m+\u001b[39m\\\n\u001b[1;32m   1317\u001b[0m     \u001b[38;5;28mself\u001b[39m\u001b[38;5;241m.\u001b[39mcommand_header \u001b[38;5;241m+\u001b[39m\\\n\u001b[1;32m   1318\u001b[0m     args_command \u001b[38;5;241m+\u001b[39m\\\n\u001b[1;32m   1319\u001b[0m     proto\u001b[38;5;241m.\u001b[39mEND_COMMAND_PART\n\u001b[1;32m   1321\u001b[0m answer \u001b[38;5;241m=\u001b[39m \u001b[38;5;28mself\u001b[39m\u001b[38;5;241m.\u001b[39mgateway_client\u001b[38;5;241m.\u001b[39msend_command(command)\n\u001b[0;32m-> 1322\u001b[0m return_value \u001b[38;5;241m=\u001b[39m \u001b[43mget_return_value\u001b[49m\u001b[43m(\u001b[49m\n\u001b[1;32m   1323\u001b[0m \u001b[43m    \u001b[49m\u001b[43manswer\u001b[49m\u001b[43m,\u001b[49m\u001b[43m \u001b[49m\u001b[38;5;28;43mself\u001b[39;49m\u001b[38;5;241;43m.\u001b[39;49m\u001b[43mgateway_client\u001b[49m\u001b[43m,\u001b[49m\u001b[43m \u001b[49m\u001b[38;5;28;43mself\u001b[39;49m\u001b[38;5;241;43m.\u001b[39;49m\u001b[43mtarget_id\u001b[49m\u001b[43m,\u001b[49m\u001b[43m \u001b[49m\u001b[38;5;28;43mself\u001b[39;49m\u001b[38;5;241;43m.\u001b[39;49m\u001b[43mname\u001b[49m\u001b[43m)\u001b[49m\n\u001b[1;32m   1325\u001b[0m \u001b[38;5;28;01mfor\u001b[39;00m temp_arg \u001b[38;5;129;01min\u001b[39;00m temp_args:\n\u001b[1;32m   1326\u001b[0m     \u001b[38;5;28;01mif\u001b[39;00m \u001b[38;5;28mhasattr\u001b[39m(temp_arg, \u001b[38;5;124m\"\u001b[39m\u001b[38;5;124m_detach\u001b[39m\u001b[38;5;124m\"\u001b[39m):\n",
      "File \u001b[0;32m/opt/spark/python/pyspark/errors/exceptions/captured.py:185\u001b[0m, in \u001b[0;36mcapture_sql_exception.<locals>.deco\u001b[0;34m(*a, **kw)\u001b[0m\n\u001b[1;32m    181\u001b[0m converted \u001b[38;5;241m=\u001b[39m convert_exception(e\u001b[38;5;241m.\u001b[39mjava_exception)\n\u001b[1;32m    182\u001b[0m \u001b[38;5;28;01mif\u001b[39;00m \u001b[38;5;129;01mnot\u001b[39;00m \u001b[38;5;28misinstance\u001b[39m(converted, UnknownException):\n\u001b[1;32m    183\u001b[0m     \u001b[38;5;66;03m# Hide where the exception came from that shows a non-Pythonic\u001b[39;00m\n\u001b[1;32m    184\u001b[0m     \u001b[38;5;66;03m# JVM exception message.\u001b[39;00m\n\u001b[0;32m--> 185\u001b[0m     \u001b[38;5;28;01mraise\u001b[39;00m converted \u001b[38;5;28;01mfrom\u001b[39;00m\u001b[38;5;250m \u001b[39m\u001b[38;5;28;01mNone\u001b[39;00m\n\u001b[1;32m    186\u001b[0m \u001b[38;5;28;01melse\u001b[39;00m:\n\u001b[1;32m    187\u001b[0m     \u001b[38;5;28;01mraise\u001b[39;00m\n",
      "\u001b[0;31mAnalysisException\u001b[0m: [TABLE_OR_VIEW_NOT_FOUND] The table or view `unity`.`information_schema`.`tables` cannot be found. Verify the spelling and correctness of the schema and catalog.\nIf you did not qualify the name with a schema, verify the current_schema() output, or qualify the name with the correct schema and catalog.\nTo tolerate the error on drop use DROP VIEW IF EXISTS or DROP TABLE IF EXISTS.; line 1 pos 14;\n'Project [*]\n+- 'UnresolvedRelation [unity, information_schema, tables], [], false\n"
     ]
    }
   ],
   "source": [
    "spark.sql(\"SELECT * FROM unity.information_schema.tables\")"
   ]
  },
  {
   "cell_type": "code",
   "execution_count": 9,
   "metadata": {},
   "outputs": [
    {
     "ename": "ParseException",
     "evalue": "\n[PARSE_SYNTAX_ERROR] Syntax error at or near 'catalog'.(line 1, pos 7)\n\n== SQL ==\nCREATE catalog unity_ext;\n-------^^^\n",
     "output_type": "error",
     "traceback": [
      "\u001b[0;31m---------------------------------------------------------------------------\u001b[0m",
      "\u001b[0;31mParseException\u001b[0m                            Traceback (most recent call last)",
      "Cell \u001b[0;32mIn[9], line 1\u001b[0m\n\u001b[0;32m----> 1\u001b[0m \u001b[43mspark\u001b[49m\u001b[38;5;241;43m.\u001b[39;49m\u001b[43msql\u001b[49m\u001b[43m(\u001b[49m\u001b[38;5;124;43m'\u001b[39;49m\u001b[38;5;124;43mCREATE catalog unity_ext;\u001b[39;49m\u001b[38;5;124;43m'\u001b[39;49m\u001b[43m)\u001b[49m\n",
      "File \u001b[0;32m/opt/spark/python/pyspark/sql/session.py:1631\u001b[0m, in \u001b[0;36mSparkSession.sql\u001b[0;34m(self, sqlQuery, args, **kwargs)\u001b[0m\n\u001b[1;32m   1627\u001b[0m         \u001b[38;5;28;01massert\u001b[39;00m \u001b[38;5;28mself\u001b[39m\u001b[38;5;241m.\u001b[39m_jvm \u001b[38;5;129;01mis\u001b[39;00m \u001b[38;5;129;01mnot\u001b[39;00m \u001b[38;5;28;01mNone\u001b[39;00m\n\u001b[1;32m   1628\u001b[0m         litArgs \u001b[38;5;241m=\u001b[39m \u001b[38;5;28mself\u001b[39m\u001b[38;5;241m.\u001b[39m_jvm\u001b[38;5;241m.\u001b[39mPythonUtils\u001b[38;5;241m.\u001b[39mtoArray(\n\u001b[1;32m   1629\u001b[0m             [_to_java_column(lit(v)) \u001b[38;5;28;01mfor\u001b[39;00m v \u001b[38;5;129;01min\u001b[39;00m (args \u001b[38;5;129;01mor\u001b[39;00m [])]\n\u001b[1;32m   1630\u001b[0m         )\n\u001b[0;32m-> 1631\u001b[0m     \u001b[38;5;28;01mreturn\u001b[39;00m DataFrame(\u001b[38;5;28;43mself\u001b[39;49m\u001b[38;5;241;43m.\u001b[39;49m\u001b[43m_jsparkSession\u001b[49m\u001b[38;5;241;43m.\u001b[39;49m\u001b[43msql\u001b[49m\u001b[43m(\u001b[49m\u001b[43msqlQuery\u001b[49m\u001b[43m,\u001b[49m\u001b[43m \u001b[49m\u001b[43mlitArgs\u001b[49m\u001b[43m)\u001b[49m, \u001b[38;5;28mself\u001b[39m)\n\u001b[1;32m   1632\u001b[0m \u001b[38;5;28;01mfinally\u001b[39;00m:\n\u001b[1;32m   1633\u001b[0m     \u001b[38;5;28;01mif\u001b[39;00m \u001b[38;5;28mlen\u001b[39m(kwargs) \u001b[38;5;241m>\u001b[39m \u001b[38;5;241m0\u001b[39m:\n",
      "File \u001b[0;32m/opt/spark/python/lib/py4j-0.10.9.7-src.zip/py4j/java_gateway.py:1322\u001b[0m, in \u001b[0;36mJavaMember.__call__\u001b[0;34m(self, *args)\u001b[0m\n\u001b[1;32m   1316\u001b[0m command \u001b[38;5;241m=\u001b[39m proto\u001b[38;5;241m.\u001b[39mCALL_COMMAND_NAME \u001b[38;5;241m+\u001b[39m\\\n\u001b[1;32m   1317\u001b[0m     \u001b[38;5;28mself\u001b[39m\u001b[38;5;241m.\u001b[39mcommand_header \u001b[38;5;241m+\u001b[39m\\\n\u001b[1;32m   1318\u001b[0m     args_command \u001b[38;5;241m+\u001b[39m\\\n\u001b[1;32m   1319\u001b[0m     proto\u001b[38;5;241m.\u001b[39mEND_COMMAND_PART\n\u001b[1;32m   1321\u001b[0m answer \u001b[38;5;241m=\u001b[39m \u001b[38;5;28mself\u001b[39m\u001b[38;5;241m.\u001b[39mgateway_client\u001b[38;5;241m.\u001b[39msend_command(command)\n\u001b[0;32m-> 1322\u001b[0m return_value \u001b[38;5;241m=\u001b[39m \u001b[43mget_return_value\u001b[49m\u001b[43m(\u001b[49m\n\u001b[1;32m   1323\u001b[0m \u001b[43m    \u001b[49m\u001b[43manswer\u001b[49m\u001b[43m,\u001b[49m\u001b[43m \u001b[49m\u001b[38;5;28;43mself\u001b[39;49m\u001b[38;5;241;43m.\u001b[39;49m\u001b[43mgateway_client\u001b[49m\u001b[43m,\u001b[49m\u001b[43m \u001b[49m\u001b[38;5;28;43mself\u001b[39;49m\u001b[38;5;241;43m.\u001b[39;49m\u001b[43mtarget_id\u001b[49m\u001b[43m,\u001b[49m\u001b[43m \u001b[49m\u001b[38;5;28;43mself\u001b[39;49m\u001b[38;5;241;43m.\u001b[39;49m\u001b[43mname\u001b[49m\u001b[43m)\u001b[49m\n\u001b[1;32m   1325\u001b[0m \u001b[38;5;28;01mfor\u001b[39;00m temp_arg \u001b[38;5;129;01min\u001b[39;00m temp_args:\n\u001b[1;32m   1326\u001b[0m     \u001b[38;5;28;01mif\u001b[39;00m \u001b[38;5;28mhasattr\u001b[39m(temp_arg, \u001b[38;5;124m\"\u001b[39m\u001b[38;5;124m_detach\u001b[39m\u001b[38;5;124m\"\u001b[39m):\n",
      "File \u001b[0;32m/opt/spark/python/pyspark/errors/exceptions/captured.py:185\u001b[0m, in \u001b[0;36mcapture_sql_exception.<locals>.deco\u001b[0;34m(*a, **kw)\u001b[0m\n\u001b[1;32m    181\u001b[0m converted \u001b[38;5;241m=\u001b[39m convert_exception(e\u001b[38;5;241m.\u001b[39mjava_exception)\n\u001b[1;32m    182\u001b[0m \u001b[38;5;28;01mif\u001b[39;00m \u001b[38;5;129;01mnot\u001b[39;00m \u001b[38;5;28misinstance\u001b[39m(converted, UnknownException):\n\u001b[1;32m    183\u001b[0m     \u001b[38;5;66;03m# Hide where the exception came from that shows a non-Pythonic\u001b[39;00m\n\u001b[1;32m    184\u001b[0m     \u001b[38;5;66;03m# JVM exception message.\u001b[39;00m\n\u001b[0;32m--> 185\u001b[0m     \u001b[38;5;28;01mraise\u001b[39;00m converted \u001b[38;5;28;01mfrom\u001b[39;00m\u001b[38;5;250m \u001b[39m\u001b[38;5;28;01mNone\u001b[39;00m\n\u001b[1;32m    186\u001b[0m \u001b[38;5;28;01melse\u001b[39;00m:\n\u001b[1;32m    187\u001b[0m     \u001b[38;5;28;01mraise\u001b[39;00m\n",
      "\u001b[0;31mParseException\u001b[0m: \n[PARSE_SYNTAX_ERROR] Syntax error at or near 'catalog'.(line 1, pos 7)\n\n== SQL ==\nCREATE catalog unity_ext;\n-------^^^\n"
     ]
    }
   ],
   "source": [
    "spark.sql('CREATE catalog unity_ext;')"
   ]
  },
  {
   "cell_type": "code",
   "execution_count": 10,
   "metadata": {},
   "outputs": [
    {
     "data": {
      "text/plain": [
       "DataFrame[]"
      ]
     },
     "execution_count": 10,
     "metadata": {},
     "output_type": "execute_result"
    }
   ],
   "source": [
    "spark.sql('CREATE SCHEMA demo;')"
   ]
  },
  {
   "cell_type": "code",
   "execution_count": 11,
   "metadata": {},
   "outputs": [
    {
     "name": "stdout",
     "output_type": "stream",
     "text": [
      "+---------+\n",
      "|namespace|\n",
      "+---------+\n",
      "|  default|\n",
      "|     demo|\n",
      "+---------+\n",
      "\n"
     ]
    }
   ],
   "source": [
    "spark.sql(\"SHOW SCHEMAS\").show()"
   ]
  },
  {
   "cell_type": "code",
   "execution_count": 32,
   "metadata": {},
   "outputs": [
    {
     "ename": "AnalysisException",
     "evalue": "[SCHEMA_NOT_FOUND] The schema `demo` cannot be found. Verify the spelling and correctness of the schema and catalog.\nIf you did not qualify the name with a catalog, verify the current_schema() output, or qualify the name with the correct catalog.\nTo tolerate the error on drop use DROP SCHEMA IF EXISTS.",
     "output_type": "error",
     "traceback": [
      "\u001b[0;31m---------------------------------------------------------------------------\u001b[0m",
      "\u001b[0;31mAnalysisException\u001b[0m                         Traceback (most recent call last)",
      "Cell \u001b[0;32mIn[32], line 1\u001b[0m\n\u001b[0;32m----> 1\u001b[0m \u001b[43mspark\u001b[49m\u001b[38;5;241;43m.\u001b[39;49m\u001b[43msql\u001b[49m\u001b[43m(\u001b[49m\u001b[38;5;124;43m\"\"\"\u001b[39;49m\n\u001b[1;32m      2\u001b[0m \u001b[38;5;124;43mCREATE TABLE\u001b[39;49m\n\u001b[1;32m      3\u001b[0m \u001b[38;5;124;43munity.demo.mytable11 (id INT, desc STRING) \u001b[39;49m\n\u001b[1;32m      4\u001b[0m \u001b[38;5;124;43mUSING delta \u001b[39;49m\n\u001b[1;32m      5\u001b[0m \u001b[38;5;124;43m\"\"\"\u001b[39;49m\u001b[43m)\u001b[49m\n",
      "File \u001b[0;32m/opt/spark/python/pyspark/sql/session.py:1631\u001b[0m, in \u001b[0;36mSparkSession.sql\u001b[0;34m(self, sqlQuery, args, **kwargs)\u001b[0m\n\u001b[1;32m   1627\u001b[0m         \u001b[38;5;28;01massert\u001b[39;00m \u001b[38;5;28mself\u001b[39m\u001b[38;5;241m.\u001b[39m_jvm \u001b[38;5;129;01mis\u001b[39;00m \u001b[38;5;129;01mnot\u001b[39;00m \u001b[38;5;28;01mNone\u001b[39;00m\n\u001b[1;32m   1628\u001b[0m         litArgs \u001b[38;5;241m=\u001b[39m \u001b[38;5;28mself\u001b[39m\u001b[38;5;241m.\u001b[39m_jvm\u001b[38;5;241m.\u001b[39mPythonUtils\u001b[38;5;241m.\u001b[39mtoArray(\n\u001b[1;32m   1629\u001b[0m             [_to_java_column(lit(v)) \u001b[38;5;28;01mfor\u001b[39;00m v \u001b[38;5;129;01min\u001b[39;00m (args \u001b[38;5;129;01mor\u001b[39;00m [])]\n\u001b[1;32m   1630\u001b[0m         )\n\u001b[0;32m-> 1631\u001b[0m     \u001b[38;5;28;01mreturn\u001b[39;00m DataFrame(\u001b[38;5;28;43mself\u001b[39;49m\u001b[38;5;241;43m.\u001b[39;49m\u001b[43m_jsparkSession\u001b[49m\u001b[38;5;241;43m.\u001b[39;49m\u001b[43msql\u001b[49m\u001b[43m(\u001b[49m\u001b[43msqlQuery\u001b[49m\u001b[43m,\u001b[49m\u001b[43m \u001b[49m\u001b[43mlitArgs\u001b[49m\u001b[43m)\u001b[49m, \u001b[38;5;28mself\u001b[39m)\n\u001b[1;32m   1632\u001b[0m \u001b[38;5;28;01mfinally\u001b[39;00m:\n\u001b[1;32m   1633\u001b[0m     \u001b[38;5;28;01mif\u001b[39;00m \u001b[38;5;28mlen\u001b[39m(kwargs) \u001b[38;5;241m>\u001b[39m \u001b[38;5;241m0\u001b[39m:\n",
      "File \u001b[0;32m/opt/spark/python/lib/py4j-0.10.9.7-src.zip/py4j/java_gateway.py:1322\u001b[0m, in \u001b[0;36mJavaMember.__call__\u001b[0;34m(self, *args)\u001b[0m\n\u001b[1;32m   1316\u001b[0m command \u001b[38;5;241m=\u001b[39m proto\u001b[38;5;241m.\u001b[39mCALL_COMMAND_NAME \u001b[38;5;241m+\u001b[39m\\\n\u001b[1;32m   1317\u001b[0m     \u001b[38;5;28mself\u001b[39m\u001b[38;5;241m.\u001b[39mcommand_header \u001b[38;5;241m+\u001b[39m\\\n\u001b[1;32m   1318\u001b[0m     args_command \u001b[38;5;241m+\u001b[39m\\\n\u001b[1;32m   1319\u001b[0m     proto\u001b[38;5;241m.\u001b[39mEND_COMMAND_PART\n\u001b[1;32m   1321\u001b[0m answer \u001b[38;5;241m=\u001b[39m \u001b[38;5;28mself\u001b[39m\u001b[38;5;241m.\u001b[39mgateway_client\u001b[38;5;241m.\u001b[39msend_command(command)\n\u001b[0;32m-> 1322\u001b[0m return_value \u001b[38;5;241m=\u001b[39m \u001b[43mget_return_value\u001b[49m\u001b[43m(\u001b[49m\n\u001b[1;32m   1323\u001b[0m \u001b[43m    \u001b[49m\u001b[43manswer\u001b[49m\u001b[43m,\u001b[49m\u001b[43m \u001b[49m\u001b[38;5;28;43mself\u001b[39;49m\u001b[38;5;241;43m.\u001b[39;49m\u001b[43mgateway_client\u001b[49m\u001b[43m,\u001b[49m\u001b[43m \u001b[49m\u001b[38;5;28;43mself\u001b[39;49m\u001b[38;5;241;43m.\u001b[39;49m\u001b[43mtarget_id\u001b[49m\u001b[43m,\u001b[49m\u001b[43m \u001b[49m\u001b[38;5;28;43mself\u001b[39;49m\u001b[38;5;241;43m.\u001b[39;49m\u001b[43mname\u001b[49m\u001b[43m)\u001b[49m\n\u001b[1;32m   1325\u001b[0m \u001b[38;5;28;01mfor\u001b[39;00m temp_arg \u001b[38;5;129;01min\u001b[39;00m temp_args:\n\u001b[1;32m   1326\u001b[0m     \u001b[38;5;28;01mif\u001b[39;00m \u001b[38;5;28mhasattr\u001b[39m(temp_arg, \u001b[38;5;124m\"\u001b[39m\u001b[38;5;124m_detach\u001b[39m\u001b[38;5;124m\"\u001b[39m):\n",
      "File \u001b[0;32m/opt/spark/python/pyspark/errors/exceptions/captured.py:185\u001b[0m, in \u001b[0;36mcapture_sql_exception.<locals>.deco\u001b[0;34m(*a, **kw)\u001b[0m\n\u001b[1;32m    181\u001b[0m converted \u001b[38;5;241m=\u001b[39m convert_exception(e\u001b[38;5;241m.\u001b[39mjava_exception)\n\u001b[1;32m    182\u001b[0m \u001b[38;5;28;01mif\u001b[39;00m \u001b[38;5;129;01mnot\u001b[39;00m \u001b[38;5;28misinstance\u001b[39m(converted, UnknownException):\n\u001b[1;32m    183\u001b[0m     \u001b[38;5;66;03m# Hide where the exception came from that shows a non-Pythonic\u001b[39;00m\n\u001b[1;32m    184\u001b[0m     \u001b[38;5;66;03m# JVM exception message.\u001b[39;00m\n\u001b[0;32m--> 185\u001b[0m     \u001b[38;5;28;01mraise\u001b[39;00m converted \u001b[38;5;28;01mfrom\u001b[39;00m\u001b[38;5;250m \u001b[39m\u001b[38;5;28;01mNone\u001b[39;00m\n\u001b[1;32m    186\u001b[0m \u001b[38;5;28;01melse\u001b[39;00m:\n\u001b[1;32m    187\u001b[0m     \u001b[38;5;28;01mraise\u001b[39;00m\n",
      "\u001b[0;31mAnalysisException\u001b[0m: [SCHEMA_NOT_FOUND] The schema `demo` cannot be found. Verify the spelling and correctness of the schema and catalog.\nIf you did not qualify the name with a catalog, verify the current_schema() output, or qualify the name with the correct catalog.\nTo tolerate the error on drop use DROP SCHEMA IF EXISTS."
     ]
    }
   ],
   "source": [
    "spark.sql(\"\"\"\n",
    "CREATE TABLE\n",
    "unity.demo.mytable11 (id INT, desc STRING) \n",
    "USING delta \n",
    "\"\"\")"
   ]
  },
  {
   "cell_type": "code",
   "execution_count": 29,
   "metadata": {},
   "outputs": [
    {
     "ename": "AnalysisException",
     "evalue": "[DELTA_PATH_DOES_NOT_EXIST] file:/opt/unitycatalog/s3a:/unity/demo/mytable9 doesn't exist, or is not a Delta table.;\nDescribeRelation false, [col_name#324, data_type#325, comment#326]\n+- ResolvedTable io.unitycatalog.spark.UCSingleCatalog@cafcb56, demo.mytable9, DeltaTableV2(org.apache.spark.sql.SparkSession@56b09494,file:/opt/unitycatalog/s3a:/unity/demo/mytable9,Some(CatalogTable(\nCatalog: unity\nDatabase: demo\nTable: mytable9\nCreated Time: Sat Jan 18 10:05:28 UTC 2025\nLast Access: UNKNOWN\nCreated By: Spark \nType: EXTERNAL\nProvider: DELTA\nLocation: file:///opt/unitycatalog/s3a:/unity/demo/mytable9)),Some(demo.mytable9),None,Map())\n",
     "output_type": "error",
     "traceback": [
      "\u001b[0;31m---------------------------------------------------------------------------\u001b[0m",
      "\u001b[0;31mAnalysisException\u001b[0m                         Traceback (most recent call last)",
      "Cell \u001b[0;32mIn[29], line 1\u001b[0m\n\u001b[0;32m----> 1\u001b[0m \u001b[43mspark\u001b[49m\u001b[38;5;241;43m.\u001b[39;49m\u001b[43msql\u001b[49m\u001b[43m(\u001b[49m\u001b[38;5;124;43m\"\u001b[39;49m\u001b[38;5;124;43mdesc unity.demo.mytable9\u001b[39;49m\u001b[38;5;124;43m\"\u001b[39;49m\u001b[43m)\u001b[49m\n",
      "File \u001b[0;32m/opt/spark/python/pyspark/sql/session.py:1631\u001b[0m, in \u001b[0;36mSparkSession.sql\u001b[0;34m(self, sqlQuery, args, **kwargs)\u001b[0m\n\u001b[1;32m   1627\u001b[0m         \u001b[38;5;28;01massert\u001b[39;00m \u001b[38;5;28mself\u001b[39m\u001b[38;5;241m.\u001b[39m_jvm \u001b[38;5;129;01mis\u001b[39;00m \u001b[38;5;129;01mnot\u001b[39;00m \u001b[38;5;28;01mNone\u001b[39;00m\n\u001b[1;32m   1628\u001b[0m         litArgs \u001b[38;5;241m=\u001b[39m \u001b[38;5;28mself\u001b[39m\u001b[38;5;241m.\u001b[39m_jvm\u001b[38;5;241m.\u001b[39mPythonUtils\u001b[38;5;241m.\u001b[39mtoArray(\n\u001b[1;32m   1629\u001b[0m             [_to_java_column(lit(v)) \u001b[38;5;28;01mfor\u001b[39;00m v \u001b[38;5;129;01min\u001b[39;00m (args \u001b[38;5;129;01mor\u001b[39;00m [])]\n\u001b[1;32m   1630\u001b[0m         )\n\u001b[0;32m-> 1631\u001b[0m     \u001b[38;5;28;01mreturn\u001b[39;00m DataFrame(\u001b[38;5;28;43mself\u001b[39;49m\u001b[38;5;241;43m.\u001b[39;49m\u001b[43m_jsparkSession\u001b[49m\u001b[38;5;241;43m.\u001b[39;49m\u001b[43msql\u001b[49m\u001b[43m(\u001b[49m\u001b[43msqlQuery\u001b[49m\u001b[43m,\u001b[49m\u001b[43m \u001b[49m\u001b[43mlitArgs\u001b[49m\u001b[43m)\u001b[49m, \u001b[38;5;28mself\u001b[39m)\n\u001b[1;32m   1632\u001b[0m \u001b[38;5;28;01mfinally\u001b[39;00m:\n\u001b[1;32m   1633\u001b[0m     \u001b[38;5;28;01mif\u001b[39;00m \u001b[38;5;28mlen\u001b[39m(kwargs) \u001b[38;5;241m>\u001b[39m \u001b[38;5;241m0\u001b[39m:\n",
      "File \u001b[0;32m/opt/spark/python/lib/py4j-0.10.9.7-src.zip/py4j/java_gateway.py:1322\u001b[0m, in \u001b[0;36mJavaMember.__call__\u001b[0;34m(self, *args)\u001b[0m\n\u001b[1;32m   1316\u001b[0m command \u001b[38;5;241m=\u001b[39m proto\u001b[38;5;241m.\u001b[39mCALL_COMMAND_NAME \u001b[38;5;241m+\u001b[39m\\\n\u001b[1;32m   1317\u001b[0m     \u001b[38;5;28mself\u001b[39m\u001b[38;5;241m.\u001b[39mcommand_header \u001b[38;5;241m+\u001b[39m\\\n\u001b[1;32m   1318\u001b[0m     args_command \u001b[38;5;241m+\u001b[39m\\\n\u001b[1;32m   1319\u001b[0m     proto\u001b[38;5;241m.\u001b[39mEND_COMMAND_PART\n\u001b[1;32m   1321\u001b[0m answer \u001b[38;5;241m=\u001b[39m \u001b[38;5;28mself\u001b[39m\u001b[38;5;241m.\u001b[39mgateway_client\u001b[38;5;241m.\u001b[39msend_command(command)\n\u001b[0;32m-> 1322\u001b[0m return_value \u001b[38;5;241m=\u001b[39m \u001b[43mget_return_value\u001b[49m\u001b[43m(\u001b[49m\n\u001b[1;32m   1323\u001b[0m \u001b[43m    \u001b[49m\u001b[43manswer\u001b[49m\u001b[43m,\u001b[49m\u001b[43m \u001b[49m\u001b[38;5;28;43mself\u001b[39;49m\u001b[38;5;241;43m.\u001b[39;49m\u001b[43mgateway_client\u001b[49m\u001b[43m,\u001b[49m\u001b[43m \u001b[49m\u001b[38;5;28;43mself\u001b[39;49m\u001b[38;5;241;43m.\u001b[39;49m\u001b[43mtarget_id\u001b[49m\u001b[43m,\u001b[49m\u001b[43m \u001b[49m\u001b[38;5;28;43mself\u001b[39;49m\u001b[38;5;241;43m.\u001b[39;49m\u001b[43mname\u001b[49m\u001b[43m)\u001b[49m\n\u001b[1;32m   1325\u001b[0m \u001b[38;5;28;01mfor\u001b[39;00m temp_arg \u001b[38;5;129;01min\u001b[39;00m temp_args:\n\u001b[1;32m   1326\u001b[0m     \u001b[38;5;28;01mif\u001b[39;00m \u001b[38;5;28mhasattr\u001b[39m(temp_arg, \u001b[38;5;124m\"\u001b[39m\u001b[38;5;124m_detach\u001b[39m\u001b[38;5;124m\"\u001b[39m):\n",
      "File \u001b[0;32m/opt/spark/python/pyspark/errors/exceptions/captured.py:185\u001b[0m, in \u001b[0;36mcapture_sql_exception.<locals>.deco\u001b[0;34m(*a, **kw)\u001b[0m\n\u001b[1;32m    181\u001b[0m converted \u001b[38;5;241m=\u001b[39m convert_exception(e\u001b[38;5;241m.\u001b[39mjava_exception)\n\u001b[1;32m    182\u001b[0m \u001b[38;5;28;01mif\u001b[39;00m \u001b[38;5;129;01mnot\u001b[39;00m \u001b[38;5;28misinstance\u001b[39m(converted, UnknownException):\n\u001b[1;32m    183\u001b[0m     \u001b[38;5;66;03m# Hide where the exception came from that shows a non-Pythonic\u001b[39;00m\n\u001b[1;32m    184\u001b[0m     \u001b[38;5;66;03m# JVM exception message.\u001b[39;00m\n\u001b[0;32m--> 185\u001b[0m     \u001b[38;5;28;01mraise\u001b[39;00m converted \u001b[38;5;28;01mfrom\u001b[39;00m\u001b[38;5;250m \u001b[39m\u001b[38;5;28;01mNone\u001b[39;00m\n\u001b[1;32m    186\u001b[0m \u001b[38;5;28;01melse\u001b[39;00m:\n\u001b[1;32m    187\u001b[0m     \u001b[38;5;28;01mraise\u001b[39;00m\n",
      "\u001b[0;31mAnalysisException\u001b[0m: [DELTA_PATH_DOES_NOT_EXIST] file:/opt/unitycatalog/s3a:/unity/demo/mytable9 doesn't exist, or is not a Delta table.;\nDescribeRelation false, [col_name#324, data_type#325, comment#326]\n+- ResolvedTable io.unitycatalog.spark.UCSingleCatalog@cafcb56, demo.mytable9, DeltaTableV2(org.apache.spark.sql.SparkSession@56b09494,file:/opt/unitycatalog/s3a:/unity/demo/mytable9,Some(CatalogTable(\nCatalog: unity\nDatabase: demo\nTable: mytable9\nCreated Time: Sat Jan 18 10:05:28 UTC 2025\nLast Access: UNKNOWN\nCreated By: Spark \nType: EXTERNAL\nProvider: DELTA\nLocation: file:///opt/unitycatalog/s3a:/unity/demo/mytable9)),Some(demo.mytable9),None,Map())\n"
     ]
    }
   ],
   "source": [
    "spark.sql(\"desc unity.demo.mytable9\")"
   ]
  },
  {
   "cell_type": "code",
   "execution_count": 19,
   "metadata": {},
   "outputs": [
    {
     "name": "stdout",
     "output_type": "stream",
     "text": [
      "+---------+---------+-----------+\n",
      "|namespace|tableName|isTemporary|\n",
      "+---------+---------+-----------+\n",
      "|     demo| mytable6|      false|\n",
      "|     demo| mytable7|      false|\n",
      "|     demo| mytable8|      false|\n",
      "+---------+---------+-----------+\n",
      "\n"
     ]
    }
   ],
   "source": [
    "spark.sql(\"SHOW TABLES IN demo\").show()  "
   ]
  },
  {
   "cell_type": "code",
   "execution_count": 14,
   "metadata": {},
   "outputs": [
    {
     "ename": "AnalysisException",
     "evalue": "[DELTA_TABLE_NOT_FOUND] Delta table `demo`.`mytable6` doesn't exist.;\nAppendData RelationV2[] unity.demo.mytable6 unity.demo.mytable6, false\n+- LocalRelation [col1#128, col2#129]\n",
     "output_type": "error",
     "traceback": [
      "\u001b[0;31m---------------------------------------------------------------------------\u001b[0m",
      "\u001b[0;31mAnalysisException\u001b[0m                         Traceback (most recent call last)",
      "Cell \u001b[0;32mIn[14], line 1\u001b[0m\n\u001b[0;32m----> 1\u001b[0m \u001b[43mspark\u001b[49m\u001b[38;5;241;43m.\u001b[39;49m\u001b[43msql\u001b[49m\u001b[43m(\u001b[49m\n\u001b[1;32m      2\u001b[0m \u001b[38;5;124;43;03m\"\"\"\u001b[39;49;00m\n\u001b[1;32m      3\u001b[0m \u001b[38;5;124;43;03mINSERT INTO unity.demo.mytable6 VALUES (1, 'test');\u001b[39;49;00m\n\u001b[1;32m      4\u001b[0m \u001b[38;5;124;43;03m\"\"\"\u001b[39;49;00m\n\u001b[1;32m      5\u001b[0m \u001b[43m)\u001b[49m\n",
      "File \u001b[0;32m/opt/spark/python/pyspark/sql/session.py:1631\u001b[0m, in \u001b[0;36mSparkSession.sql\u001b[0;34m(self, sqlQuery, args, **kwargs)\u001b[0m\n\u001b[1;32m   1627\u001b[0m         \u001b[38;5;28;01massert\u001b[39;00m \u001b[38;5;28mself\u001b[39m\u001b[38;5;241m.\u001b[39m_jvm \u001b[38;5;129;01mis\u001b[39;00m \u001b[38;5;129;01mnot\u001b[39;00m \u001b[38;5;28;01mNone\u001b[39;00m\n\u001b[1;32m   1628\u001b[0m         litArgs \u001b[38;5;241m=\u001b[39m \u001b[38;5;28mself\u001b[39m\u001b[38;5;241m.\u001b[39m_jvm\u001b[38;5;241m.\u001b[39mPythonUtils\u001b[38;5;241m.\u001b[39mtoArray(\n\u001b[1;32m   1629\u001b[0m             [_to_java_column(lit(v)) \u001b[38;5;28;01mfor\u001b[39;00m v \u001b[38;5;129;01min\u001b[39;00m (args \u001b[38;5;129;01mor\u001b[39;00m [])]\n\u001b[1;32m   1630\u001b[0m         )\n\u001b[0;32m-> 1631\u001b[0m     \u001b[38;5;28;01mreturn\u001b[39;00m DataFrame(\u001b[38;5;28;43mself\u001b[39;49m\u001b[38;5;241;43m.\u001b[39;49m\u001b[43m_jsparkSession\u001b[49m\u001b[38;5;241;43m.\u001b[39;49m\u001b[43msql\u001b[49m\u001b[43m(\u001b[49m\u001b[43msqlQuery\u001b[49m\u001b[43m,\u001b[49m\u001b[43m \u001b[49m\u001b[43mlitArgs\u001b[49m\u001b[43m)\u001b[49m, \u001b[38;5;28mself\u001b[39m)\n\u001b[1;32m   1632\u001b[0m \u001b[38;5;28;01mfinally\u001b[39;00m:\n\u001b[1;32m   1633\u001b[0m     \u001b[38;5;28;01mif\u001b[39;00m \u001b[38;5;28mlen\u001b[39m(kwargs) \u001b[38;5;241m>\u001b[39m \u001b[38;5;241m0\u001b[39m:\n",
      "File \u001b[0;32m/opt/spark/python/lib/py4j-0.10.9.7-src.zip/py4j/java_gateway.py:1322\u001b[0m, in \u001b[0;36mJavaMember.__call__\u001b[0;34m(self, *args)\u001b[0m\n\u001b[1;32m   1316\u001b[0m command \u001b[38;5;241m=\u001b[39m proto\u001b[38;5;241m.\u001b[39mCALL_COMMAND_NAME \u001b[38;5;241m+\u001b[39m\\\n\u001b[1;32m   1317\u001b[0m     \u001b[38;5;28mself\u001b[39m\u001b[38;5;241m.\u001b[39mcommand_header \u001b[38;5;241m+\u001b[39m\\\n\u001b[1;32m   1318\u001b[0m     args_command \u001b[38;5;241m+\u001b[39m\\\n\u001b[1;32m   1319\u001b[0m     proto\u001b[38;5;241m.\u001b[39mEND_COMMAND_PART\n\u001b[1;32m   1321\u001b[0m answer \u001b[38;5;241m=\u001b[39m \u001b[38;5;28mself\u001b[39m\u001b[38;5;241m.\u001b[39mgateway_client\u001b[38;5;241m.\u001b[39msend_command(command)\n\u001b[0;32m-> 1322\u001b[0m return_value \u001b[38;5;241m=\u001b[39m \u001b[43mget_return_value\u001b[49m\u001b[43m(\u001b[49m\n\u001b[1;32m   1323\u001b[0m \u001b[43m    \u001b[49m\u001b[43manswer\u001b[49m\u001b[43m,\u001b[49m\u001b[43m \u001b[49m\u001b[38;5;28;43mself\u001b[39;49m\u001b[38;5;241;43m.\u001b[39;49m\u001b[43mgateway_client\u001b[49m\u001b[43m,\u001b[49m\u001b[43m \u001b[49m\u001b[38;5;28;43mself\u001b[39;49m\u001b[38;5;241;43m.\u001b[39;49m\u001b[43mtarget_id\u001b[49m\u001b[43m,\u001b[49m\u001b[43m \u001b[49m\u001b[38;5;28;43mself\u001b[39;49m\u001b[38;5;241;43m.\u001b[39;49m\u001b[43mname\u001b[49m\u001b[43m)\u001b[49m\n\u001b[1;32m   1325\u001b[0m \u001b[38;5;28;01mfor\u001b[39;00m temp_arg \u001b[38;5;129;01min\u001b[39;00m temp_args:\n\u001b[1;32m   1326\u001b[0m     \u001b[38;5;28;01mif\u001b[39;00m \u001b[38;5;28mhasattr\u001b[39m(temp_arg, \u001b[38;5;124m\"\u001b[39m\u001b[38;5;124m_detach\u001b[39m\u001b[38;5;124m\"\u001b[39m):\n",
      "File \u001b[0;32m/opt/spark/python/pyspark/errors/exceptions/captured.py:185\u001b[0m, in \u001b[0;36mcapture_sql_exception.<locals>.deco\u001b[0;34m(*a, **kw)\u001b[0m\n\u001b[1;32m    181\u001b[0m converted \u001b[38;5;241m=\u001b[39m convert_exception(e\u001b[38;5;241m.\u001b[39mjava_exception)\n\u001b[1;32m    182\u001b[0m \u001b[38;5;28;01mif\u001b[39;00m \u001b[38;5;129;01mnot\u001b[39;00m \u001b[38;5;28misinstance\u001b[39m(converted, UnknownException):\n\u001b[1;32m    183\u001b[0m     \u001b[38;5;66;03m# Hide where the exception came from that shows a non-Pythonic\u001b[39;00m\n\u001b[1;32m    184\u001b[0m     \u001b[38;5;66;03m# JVM exception message.\u001b[39;00m\n\u001b[0;32m--> 185\u001b[0m     \u001b[38;5;28;01mraise\u001b[39;00m converted \u001b[38;5;28;01mfrom\u001b[39;00m\u001b[38;5;250m \u001b[39m\u001b[38;5;28;01mNone\u001b[39;00m\n\u001b[1;32m    186\u001b[0m \u001b[38;5;28;01melse\u001b[39;00m:\n\u001b[1;32m    187\u001b[0m     \u001b[38;5;28;01mraise\u001b[39;00m\n",
      "\u001b[0;31mAnalysisException\u001b[0m: [DELTA_TABLE_NOT_FOUND] Delta table `demo`.`mytable6` doesn't exist.;\nAppendData RelationV2[] unity.demo.mytable6 unity.demo.mytable6, false\n+- LocalRelation [col1#128, col2#129]\n"
     ]
    }
   ],
   "source": [
    "spark.sql(\n",
    "\"\"\"\n",
    "INSERT INTO unity.demo.mytable6 VALUES (1, 'test');\n",
    "\"\"\"\n",
    ")"
   ]
  },
  {
   "cell_type": "code",
   "execution_count": 31,
   "metadata": {},
   "outputs": [
    {
     "name": "stdout",
     "output_type": "stream",
     "text": [
      "+---------+\n",
      "|namespace|\n",
      "+---------+\n",
      "|     demo|\n",
      "+---------+\n",
      "\n"
     ]
    }
   ],
   "source": [
    "spark.sql(\"SHOW SCHEMAS\").show()"
   ]
  },
  {
   "cell_type": "code",
   "execution_count": 30,
   "metadata": {},
   "outputs": [
    {
     "name": "stdout",
     "output_type": "stream",
     "text": [
      "+------------------+\n",
      "|current_database()|\n",
      "+------------------+\n",
      "|              demo|\n",
      "+------------------+\n",
      "\n"
     ]
    }
   ],
   "source": [
    "spark.sql('select current_schema()').show()"
   ]
  },
  {
   "cell_type": "code",
   "execution_count": null,
   "metadata": {},
   "outputs": [],
   "source": []
  }
 ],
 "metadata": {
  "kernelspec": {
   "display_name": ".venv",
   "language": "python",
   "name": "python3"
  },
  "language_info": {
   "codemirror_mode": {
    "name": "ipython",
    "version": 3
   },
   "file_extension": ".py",
   "mimetype": "text/x-python",
   "name": "python",
   "nbconvert_exporter": "python",
   "pygments_lexer": "ipython3",
   "version": "3.11.9"
  }
 },
 "nbformat": 4,
 "nbformat_minor": 2
}
