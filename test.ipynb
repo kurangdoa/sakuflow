{
 "cells": [
  {
   "cell_type": "code",
   "execution_count": 1,
   "metadata": {},
   "outputs": [],
   "source": [
    "import findspark\n",
    "import os\n",
    "\n",
    "findspark.init(spark_home='/Users/rhyando/spark')\n",
    "os.environ['JAVA_HOME']='/opt/homebrew/Cellar/openjdk@11/11.0.23/libexec/openjdk.jdk/Contents/Home'"
   ]
  },
  {
   "cell_type": "code",
   "execution_count": 2,
   "metadata": {},
   "outputs": [
    {
     "name": "stderr",
     "output_type": "stream",
     "text": [
      "Setting default log level to \"WARN\".\n",
      "To adjust logging level use sc.setLogLevel(newLevel). For SparkR, use setLogLevel(newLevel).\n",
      "24/05/31 22:45:33 WARN NativeCodeLoader: Unable to load native-hadoop library for your platform... using builtin-java classes where applicable\n"
     ]
    }
   ],
   "source": [
    "# test edit\n",
    "# based on https://mybinder.org/v2/gh/projectnessie/nessie-demos/main?filepath=notebooks/nessie-iceberg-demo-nba.ipynb\n",
    "\n",
    "import pyspark\n",
    "from pyspark.sql import SparkSession\n",
    "import os\n",
    "import socket\n",
    "\n",
    "# os.environ['PYSPARK_SUBMIT_ARGS'] = '--packages org.projectnessie.nessie-integrations:nessie-spark-extensions-3.3_2.12:0.82.0'\n",
    "\n",
    "conf = pyspark.SparkConf().setAll([\n",
    "    # ip of spark master\n",
    "    # ('spark.driver.bindAddress', '10.244.0.14')\n",
    "    ('spark.driver.host', socket.gethostbyname(socket.gethostname()))\n",
    "    #, ('spark.ui.proxyBase', os.environ['JUPYTERHUB_SERVICE_PREFIX'] + 'proxy/4040')\n",
    "    # ('spark.submit.deployMode', 'client')\n",
    "    # , ('spark.driver.port', '7077')\n",
    "    , ('spark.master', \"spark://127.0.0.1:7077\")\n",
    "    # , ('spark.jars.packages', 'org.projectnessie.nessie-integrations:nessie-spark-extensions-3.3_2.12:0.82.0,org.apache.iceberg:iceberg-spark-runtime-3.5_2.12:1.5.0,com.amazonaws:aws-java-sdk-bundle:1.12.262,org.apache.hadoop:hadoop-aws:3.3.4')\n",
    "    , (\"spark.sql.extensions\", \"org.apache.iceberg.spark.extensions.IcebergSparkSessionExtensions,org.projectnessie.spark.extensions.NessieSparkSessionExtensions\")\n",
    "    # cluster ip\n",
    "    # , ('spark.hadoop.fs.s3a.endpoint', 'http://10.104.71.148:6544')\n",
    "    , ('spark.hadoop.fs.s3a.endpoint', \"http://127.0.0.1:6544\")\n",
    "    # for minio spark\n",
    "    , ('spark.hadoop.fs.s3a.access.key','minio')\n",
    "    , ('spark.hadoop.fs.s3a.secret.key', 'minio123')\n",
    "    , ('spark.hadoop.fs.s3a.path.style.access', 'true')\n",
    "    , (\"spark.hadoop.fs.s3a.connection.ssl.enabled\", \"false\")\n",
    "    # for iceberg minio jdbc\n",
    "    #, ('spark.sql.extensions', 'org.apache.iceberg.spark.extensions.IcebesrgSparkSessionExtensions')\n",
    "    , ('spark.sql.catalog.nessie_catalog', 'org.apache.iceberg.spark.SparkCatalog')\n",
    "    , (\"spark.sql.catalog.nessie_catalog.catalog-impl\", \"org.apache.iceberg.nessie.NessieCatalog\")\n",
    "    , ('spark.sql.defaultCatalog', 'nessie_catalog')\n",
    "    , ('spark.sql.catalog.nessie_catalog.warehouse', 's3a://test/')\n",
    "    # , ('spark.sql.catalog.my_catalog.type', 'jdbc')\n",
    "    # ip of service postgre\n",
    "    , ('spark.sql.catalog.nessie_catalog.uri', 'http://127.0.0.1:6788/api/v1')\n",
    "    , ('spark.sql.catalog.nessie_catalog.ref', 'main')\n",
    "    , (\"spark.sql.catalog.nessie_catalog.authentication.type\", 'NONE')\n",
    "    # , ('spark.sql.catalog.my_catalog.jdbc.user', 'postgres')\n",
    "    # , ('spark.sql.catalog.my_catalog.jdbc.password', 'postgres')\n",
    "    ])\n",
    "sc = pyspark.SparkContext(conf=conf)\n",
    "spark = SparkSession.builder.config(conf=conf).getOrCreate()"
   ]
  },
  {
   "cell_type": "code",
   "execution_count": 3,
   "metadata": {},
   "outputs": [
    {
     "name": "stdout",
     "output_type": "stream",
     "text": [
      "+-------+----+--------------------+\n",
      "|refType|name|                hash|\n",
      "+-------+----+--------------------+\n",
      "| Branch| dev|09ab65730d3ee184f...|\n",
      "| Branch|main|2e1cfa82b035c26cb...|\n",
      "+-------+----+--------------------+\n",
      "\n"
     ]
    }
   ],
   "source": [
    "spark.sql(\"LIST REFERENCES IN nessie_catalog\").show()"
   ]
  },
  {
   "cell_type": "code",
   "execution_count": null,
   "metadata": {},
   "outputs": [],
   "source": []
  }
 ],
 "metadata": {
  "kernelspec": {
   "display_name": "Python 3",
   "language": "python",
   "name": "python3"
  },
  "language_info": {
   "codemirror_mode": {
    "name": "ipython",
    "version": 3
   },
   "file_extension": ".py",
   "mimetype": "text/x-python",
   "name": "python",
   "nbconvert_exporter": "python",
   "pygments_lexer": "ipython3",
   "version": "3.10.9"
  }
 },
 "nbformat": 4,
 "nbformat_minor": 2
}
